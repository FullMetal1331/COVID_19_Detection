{
  "nbformat": 4,
  "nbformat_minor": 0,
  "metadata": {
    "colab": {
      "name": "Untitled3.ipynb",
      "provenance": [],
      "collapsed_sections": []
    },
    "kernelspec": {
      "name": "python3",
      "display_name": "Python 3"
    }
  },
  "cells": [
    {
      "cell_type": "code",
      "metadata": {
        "id": "G0-5tr_zhgzC",
        "colab": {
          "base_uri": "https://localhost:8080/",
          "height": 129
        },
        "outputId": "536bbb19-a69a-4fe3-a20c-58dbd36a8bd6"
      },
      "source": [
        "!pip install pydicom"
      ],
      "execution_count": null,
      "outputs": [
        {
          "output_type": "stream",
          "text": [
            "Collecting pydicom\n",
            "\u001b[?25l  Downloading https://files.pythonhosted.org/packages/d3/56/342e1f8ce5afe63bf65c23d0b2c1cd5a05600caad1c211c39725d3a4cc56/pydicom-2.0.0-py3-none-any.whl (35.4MB)\n",
            "\u001b[K     |████████████████████████████████| 35.5MB 89kB/s \n",
            "\u001b[?25hInstalling collected packages: pydicom\n",
            "Successfully installed pydicom-2.0.0\n"
          ],
          "name": "stdout"
        }
      ]
    },
    {
      "cell_type": "code",
      "metadata": {
        "id": "n67q3sDwhDc8"
      },
      "source": [
        "import os\n",
        "\n",
        "import numpy as np\n",
        "import pandas as pd\n",
        "\n",
        "#import pydicom\n",
        "import cv2\n",
        "import matplotlib.pyplot as plt\n",
        "\n",
        "from keras.models import *\n",
        "from keras.layers import *\n",
        "from keras.optimizers import *\n",
        "from keras.losses import binary_crossentropy\n",
        "from keras.utils import Sequence\n",
        "from keras import backend as keras\n",
        "from keras.preprocessing.image import ImageDataGenerator\n",
        "from keras.callbacks import ModelCheckpoint, LearningRateScheduler\n",
        "from keras.utils import plot_model\n",
        "from google.colab.patches import cv2_imshow\n",
        "\n",
        "from glob import glob\n",
        "from tqdm import tqdm\n",
        "\n",
        "from sklearn.metrics import confusion_matrix, classification_report"
      ],
      "execution_count": null,
      "outputs": []
    },
    {
      "cell_type": "code",
      "metadata": {
        "id": "cL08YKcChHvg",
        "colab": {
          "base_uri": "https://localhost:8080/",
          "height": 35
        },
        "outputId": "62fd3167-6e43-4489-dfeb-fc0937d124ea"
      },
      "source": [
        "from google.colab import drive\n",
        "drive.mount('/content/drive/')"
      ],
      "execution_count": null,
      "outputs": [
        {
          "output_type": "stream",
          "text": [
            "Mounted at /content/drive/\n"
          ],
          "name": "stdout"
        }
      ]
    },
    {
      "cell_type": "code",
      "metadata": {
        "id": "eXUX8SNLh_Zs",
        "colab": {
          "base_uri": "https://localhost:8080/",
          "height": 247
        },
        "outputId": "c7db7159-18d8-4e8b-f7b1-76a1a12eafbe"
      },
      "source": [
        "ini_path = \"/content/drive/My Drive/\";\n",
        "INPUT_DIR = os.path.join(ini_path)\n",
        "\n",
        "SEGMENTATION_DIR = os.path.join(INPUT_DIR, \"final_report_images\")\n",
        "SEGMENTATION_MODEL = os.path.join(ini_path, \"fin_seg_mod.hdf5\")\n",
        "SEGMENTATION_RESULT_TEST = os.path.join(SEGMENTATION_DIR)\n",
        "\n",
        "RSNA_DIR = os.path.join(INPUT_DIR)\n",
        "RSNA_TEST_DIR = os.path.join(RSNA_DIR, \"final_report_images\",\"source\")\n",
        "print(SEGMENTATION_RESULT_TEST)\n",
        "print(RSNA_TEST_DIR)"
      ],
      "execution_count": null,
      "outputs": [
        {
          "output_type": "error",
          "ename": "NameError",
          "evalue": "ignored",
          "traceback": [
            "\u001b[0;31m---------------------------------------------------------------------------\u001b[0m",
            "\u001b[0;31mNameError\u001b[0m                                 Traceback (most recent call last)",
            "\u001b[0;32m<ipython-input-1-af828d1cb227>\u001b[0m in \u001b[0;36m<module>\u001b[0;34m()\u001b[0m\n\u001b[1;32m      1\u001b[0m \u001b[0mini_path\u001b[0m \u001b[0;34m=\u001b[0m \u001b[0;34m\"/content/drive/My Drive/\"\u001b[0m\u001b[0;34m;\u001b[0m\u001b[0;34m\u001b[0m\u001b[0;34m\u001b[0m\u001b[0m\n\u001b[0;32m----> 2\u001b[0;31m \u001b[0mINPUT_DIR\u001b[0m \u001b[0;34m=\u001b[0m \u001b[0mos\u001b[0m\u001b[0;34m.\u001b[0m\u001b[0mpath\u001b[0m\u001b[0;34m.\u001b[0m\u001b[0mjoin\u001b[0m\u001b[0;34m(\u001b[0m\u001b[0mini_path\u001b[0m\u001b[0;34m)\u001b[0m\u001b[0;34m\u001b[0m\u001b[0;34m\u001b[0m\u001b[0m\n\u001b[0m\u001b[1;32m      3\u001b[0m \u001b[0;34m\u001b[0m\u001b[0m\n\u001b[1;32m      4\u001b[0m \u001b[0mSEGMENTATION_DIR\u001b[0m \u001b[0;34m=\u001b[0m \u001b[0mos\u001b[0m\u001b[0;34m.\u001b[0m\u001b[0mpath\u001b[0m\u001b[0;34m.\u001b[0m\u001b[0mjoin\u001b[0m\u001b[0;34m(\u001b[0m\u001b[0mINPUT_DIR\u001b[0m\u001b[0;34m,\u001b[0m \u001b[0;34m\"final_report_images\"\u001b[0m\u001b[0;34m)\u001b[0m\u001b[0;34m\u001b[0m\u001b[0;34m\u001b[0m\u001b[0m\n\u001b[1;32m      5\u001b[0m \u001b[0mSEGMENTATION_MODEL\u001b[0m \u001b[0;34m=\u001b[0m \u001b[0mos\u001b[0m\u001b[0;34m.\u001b[0m\u001b[0mpath\u001b[0m\u001b[0;34m.\u001b[0m\u001b[0mjoin\u001b[0m\u001b[0;34m(\u001b[0m\u001b[0mini_path\u001b[0m\u001b[0;34m,\u001b[0m \u001b[0;34m\"fin_seg_mod.hdf5\"\u001b[0m\u001b[0;34m)\u001b[0m\u001b[0;34m\u001b[0m\u001b[0;34m\u001b[0m\u001b[0m\n",
            "\u001b[0;31mNameError\u001b[0m: name 'os' is not defined"
          ]
        }
      ]
    },
    {
      "cell_type": "code",
      "metadata": {
        "id": "TizMSu1skHMG"
      },
      "source": [
        "def dice_coef(y_true, y_pred):\n",
        "    y_true_f = keras.flatten(y_true)\n",
        "    y_pred_f = keras.flatten(y_pred)\n",
        "    intersection = keras.sum(y_true_f * y_pred_f)\n",
        "    return (2. * intersection + 1) / (keras.sum(y_true_f) + keras.sum(y_pred_f) + 1)\n",
        "\n",
        "def dice_coef_loss(y_true, y_pred):\n",
        "    return -dice_coef(y_true, y_pred)\n",
        "\n",
        "segmentation_model = load_model(SEGMENTATION_MODEL, \\\n",
        "                                custom_objects={'dice_coef_loss': dice_coef_loss, \\\n",
        "                                                'dice_coef': dice_coef})\n",
        "\n",
        "segmentation_model.summary()"
      ],
      "execution_count": null,
      "outputs": []
    },
    {
      "cell_type": "code",
      "metadata": {
        "id": "Vg-CbB8L3EfF"
      },
      "source": [
        "plot_model(segmentation_model)"
      ],
      "execution_count": null,
      "outputs": []
    },
    {
      "cell_type": "code",
      "metadata": {
        "id": "29W5uh-Qkhxw"
      },
      "source": [
        "def image_to_train(img):\n",
        "    npy = img / 255\n",
        "    npy = np.reshape(npy, npy.shape + (1,))\n",
        "    npy = np.reshape(npy,(1,) + npy.shape)\n",
        "    npy.shape\n",
        "    return npy\n",
        "\n",
        "def train_to_image(npy):\n",
        "    img = (npy[0,:, :, 0] * 255.).astype(np.uint8)\n",
        "    return img"
      ],
      "execution_count": null,
      "outputs": []
    },
    {
      "cell_type": "code",
      "metadata": {
        "id": "w8q1aGHRL7D2",
        "colab": {
          "base_uri": "https://localhost:8080/",
          "height": 35
        },
        "outputId": "44c9b63c-9579-4775-b129-6c246294ac30"
      },
      "source": [
        "def gammaCorrection(img_original, gamma):\n",
        "    ## [changing-contrast-brightness-gamma-correction]\n",
        "    lookUpTable = np.empty((1,256), np.uint8)\n",
        "    for i in range(256):\n",
        "        lookUpTable[0,i] = np.clip(pow(i / 255.0, gamma) * 255.0, 0, 255)\n",
        "\n",
        "    res = cv2.LUT(img_original, lookUpTable)\n",
        "    ## [changing-contrast-brightness-gamma-correction]\n",
        "\n",
        "    #img_gamma_corrected = cv2.hconcat([img_original, res])\n",
        "    return res\n",
        "\n",
        "def adjust_gamma(image, gamma=1.0):\n",
        "   invGamma = 1.0 / gamma\n",
        "   table = np.array([((i / 255.0) ** invGamma) * 255\n",
        "      for i in np.arange(0, 256)]).astype(\"uint8\")\n",
        "\n",
        "   return cv2.LUT(image, table)\n",
        "name = \"post-intubuation-pneumomediastium-and-pneumothorax-background-covid-19-pneumonia-day6-1.jpg\"\n",
        "img = cv2.imread(os.path.join(RSNA_TEST_DIR,name))\n",
        "#cv2_imshow(img)\n",
        "img2 = adjust_gamma(img,gamma=2)\n",
        "img3 = gammaCorrection(img,0.3325)\n",
        "clahe = cv2.createCLAHE(clipLimit=2.0, tileGridSize=(8,32))\n",
        "img3 = clahe.apply(cv2.cvtColor(img3, cv2.COLOR_BGR2GRAY))\n",
        "#cv2_imshow(np.hstack((img,img2)))\n",
        "#cv2_imshow(np.hstack((img2,img3)))\n",
        "cv2.imwrite(os.path.join(SEGMENTATION_RESULT_TEST, ('1'+name)), img)\n",
        "cv2.imwrite(os.path.join(SEGMENTATION_RESULT_TEST, ('2'+name)), img2)\n",
        "cv2.imwrite(os.path.join(SEGMENTATION_RESULT_TEST, ('320'+name)), img3)"
      ],
      "execution_count": null,
      "outputs": [
        {
          "output_type": "execute_result",
          "data": {
            "text/plain": [
              "True"
            ]
          },
          "metadata": {
            "tags": []
          },
          "execution_count": 54
        }
      ]
    },
    {
      "cell_type": "markdown",
      "metadata": {
        "id": "yaHvx3fJFMsS"
      },
      "source": [
        "# **Test on single file**"
      ]
    },
    {
      "cell_type": "code",
      "metadata": {
        "id": "DhNs6qboFMXr"
      },
      "source": [
        "def gammaCorrection(img_original, gamma):\n",
        "    ## [changing-contrast-brightness-gamma-correction]\n",
        "    lookUpTable = np.empty((1,256), np.uint8)\n",
        "    for i in range(256):\n",
        "        lookUpTable[0,i] = np.clip(pow(i / 255.0, gamma) * 255.0, 0, 255)\n",
        "\n",
        "    res = cv2.LUT(img_original, lookUpTable)\n",
        "    ## [changing-contrast-brightness-gamma-correction]\n",
        "\n",
        "    #img_gamma_corrected = cv2.hconcat([img_original, res])\n",
        "    return res\n",
        "\n",
        "def adjust_gamma(image, gamma=1.0):\n",
        "   invGamma = 1.0 / gamma\n",
        "   table = np.array([((i / 255.0) ** invGamma) * 255\n",
        "      for i in np.arange(0, 256)]).astype(\"uint8\")\n",
        "\n",
        "   return cv2.LUT(image, table)\n",
        "\n",
        "def segment_image(pid, img, save_to):\n",
        "    img = cv2.resize(img, (512, 512))\n",
        "    segm_ret = segmentation_model.predict(image_to_train(img), \\\n",
        "                                          verbose=0)\n",
        "\n",
        "    img = cv2.bitwise_and(img, img, mask=train_to_image(segm_ret))\n",
        "    pid += '3'\n",
        "    #cv2.imwrite(os.path.join(save_to, \"%s.png\" % pid), img)\n",
        "    return img\n",
        "\n",
        "name = \"post-intubuation-pneumomediastium-and-pneumothorax-background-covid-19-pneumonia-day6-1.jpg\"\n",
        "\n",
        "for i in range(1,4):\n",
        "  name2 = str(i)+name\n",
        "  pid, fileext = os.path.splitext(name2)\n",
        "  filename = os.path.join(SEGMENTATION_RESULT_TEST,name2)\n",
        "  img = cv2.imread(filename,cv2.IMREAD_GRAYSCALE)\n",
        "  width, height, nChannels, nImages = (512, 512, 0, 2)\n",
        "  images1 = np.zeros((width, height))\n",
        "  images2 = np.zeros((width, height))\n",
        "  images3 = np.zeros((width, height))\n",
        "  images4 = np.zeros((width, height))\n",
        "  images5 = np.zeros((width, height))\n",
        "  img = cv2.equalizeHist(img)\n",
        "  clahe = cv2.createCLAHE(clipLimit=1.5, tileGridSize=(8,32))\n",
        "  img2 = clahe.apply(img)\n",
        "  #clahe = cv2.createCLAHE(clipLimit=0.8, tileGridSize=(8,32))\n",
        "  #img3 = adjust_gamma(img,gamma=1.5)\n",
        "  img3 = gammaCorrection(img,0.3325)\n",
        "  clahe = cv2.createCLAHE(clipLimit=2.0, tileGridSize=(8,32))\n",
        "  clahe = cv2.createCLAHE(clipLimit=0.5, tileGridSize=(8,32))\n",
        "  img4 = clahe.apply(img)\n",
        "  img = segment_image(pid, img, SEGMENTATION_RESULT_TEST)\n",
        "  img2 = segment_image(pid, img2, SEGMENTATION_RESULT_TEST)\n",
        "  img3 = segment_image(pid, img3, SEGMENTATION_RESULT_TEST)\n",
        "  img4 = segment_image(pid, img4, SEGMENTATION_RESULT_TEST)\n",
        "  images1[:, :] = cv2.resize(img, (width, height))\n",
        "  images2[:, :] = cv2.resize(img2, (width, height))\n",
        "  images3[:, :] = cv2.resize(img3, (width, height))\n",
        "  images4[:, :] = cv2.resize(img4, (width, height))\n",
        "  for i in range(0,width):\n",
        "    for j in range(0,height):\n",
        "      if (images1[i,j]!=0 and images2[i,j]!=0 and images3[i,j]!=0 and images4[i,j]!=0):\n",
        "        images5[i,j] = images2[i,j]\n",
        "      elif (images2[i,j]==0):\n",
        "        if (images1[i,j]==0):\n",
        "          images5[i,j] = images3[i,j]\n",
        "        else:\n",
        "          images5[i,j] = images1[i,j]\n",
        "      else:\n",
        "        images5[i,j] = images2[i,j]\n",
        "  #cv2_imshow(img)\n",
        "  #cv2_imshow(img2)\n",
        "  #cv2_imshow(images3)\n",
        "  cv2.imwrite(os.path.join(SEGMENTATION_RESULT_TEST, \"%s.png\" % pid), img)\n",
        "  pid2 = pid+'2'\n",
        "  cv2.imwrite(os.path.join(SEGMENTATION_RESULT_TEST, \"%s.png\" % pid2), img2)\n",
        "  pid3 = pid+'3'\n",
        "  cv2.imwrite(os.path.join(SEGMENTATION_RESULT_TEST, \"%s.png\" % pid3), img3)\n",
        "  pid4 = pid+'4'\n",
        "  cv2.imwrite(os.path.join(SEGMENTATION_RESULT_TEST, \"%s.png\" % pid4), img4)\n",
        "  pid5 = pid+'5'\n",
        "  cv2.imwrite(os.path.join(SEGMENTATION_RESULT_TEST, \"%s.png\" % pid5), images5)"
      ],
      "execution_count": null,
      "outputs": []
    },
    {
      "cell_type": "code",
      "metadata": {
        "id": "GL7iLt7Q2zgd",
        "colab": {
          "base_uri": "https://localhost:8080/",
          "height": 35
        },
        "outputId": "9686024e-557f-4be0-a395-abdde92c03ba"
      },
      "source": [
        "print(os.path.isfile(os.path.join(SEGMENTATION_RESULT_TEST,(\"person1_virus_65\"+\".png\"))))"
      ],
      "execution_count": null,
      "outputs": [
        {
          "output_type": "stream",
          "text": [
            "True\n"
          ],
          "name": "stdout"
        }
      ]
    },
    {
      "cell_type": "code",
      "metadata": {
        "id": "5vj1F4IQkith",
        "colab": {
          "base_uri": "https://localhost:8080/",
          "height": 72
        },
        "outputId": "cefefc29-f17a-4bb5-ae2a-8c0d860a01ca"
      },
      "source": [
        "def gammaCorrection(img_original, gamma):\n",
        "    ## [changing-contrast-brightness-gamma-correction]\n",
        "    lookUpTable = np.empty((1,256), np.uint8)\n",
        "    for i in range(256):\n",
        "        lookUpTable[0,i] = np.clip(pow(i / 255.0, gamma) * 255.0, 0, 255)\n",
        "\n",
        "    res = cv2.LUT(img_original, lookUpTable)\n",
        "    ## [changing-contrast-brightness-gamma-correction]\n",
        "\n",
        "    #img_gamma_corrected = cv2.hconcat([img_original, res])\n",
        "    return res\n",
        "\n",
        "def adjust_gamma(image, gamma=1.0):\n",
        "   invGamma = 1.0 / gamma\n",
        "   table = np.array([((i / 255.0) ** invGamma) * 255\n",
        "      for i in np.arange(0, 256)]).astype(\"uint8\")\n",
        "\n",
        "   return cv2.LUT(image, table)\n",
        "\n",
        "def segment_image(pid, img, save_to):\n",
        "    img = cv2.resize(img, (512, 512))\n",
        "    segm_ret = segmentation_model.predict(image_to_train(img), \\\n",
        "                                          verbose=0)\n",
        "\n",
        "    img = cv2.bitwise_and(img, img, mask=train_to_image(segm_ret))\n",
        "    pid += '3'\n",
        "    #cv2.imwrite(os.path.join(save_to, \"%s.png\" % pid), img)\n",
        "    return img\n",
        "types = [\"*.png\",\"*.jpeg\",\"*.jpg\"]\n",
        "\n",
        "for i in range(0,3):\n",
        "  for filename in tqdm(glob(os.path.join(RSNA_TEST_DIR, types[i]))):\n",
        "      pid, fileext = os.path.splitext(os.path.basename(filename))\n",
        "      #if (pid!=\"post-intubuation-pneumomediastium-and-pneumothorax-background-covid-19-pneumonia-day6-1\"):\n",
        "      #  continue\n",
        "      if(os.path.isfile(os.path.join(SEGMENTATION_RESULT_TEST,(pid+\".png\")))):\n",
        "        print(\"skipped \"+pid)\n",
        "        continue\n",
        "      img = cv2.imread(filename,cv2.IMREAD_GRAYSCALE)\n",
        "      width, height, nChannels, nImages = (512, 512, 0, 2)\n",
        "      images0 = np.zeros((width, height))\n",
        "      images0[:, :] = cv2.resize(img, (width, height))\n",
        "      images1 = np.zeros((width, height))\n",
        "      images2 = np.zeros((width, height))\n",
        "      images3 = np.zeros((width, height))\n",
        "      images4 = np.zeros((width, height))\n",
        "      images5 = np.zeros((width, height))\n",
        "      #img = cv2.equalizeHist(img)\n",
        "      clahe = cv2.createCLAHE(clipLimit=1.5, tileGridSize=(8,32))\n",
        "      img2 = clahe.apply(img)\n",
        "      #clahe = cv2.createCLAHE(clipLimit=0.8, tileGridSize=(8,32))\n",
        "      #img3 = adjust_gamma(img,gamma=1.5)#clahe.apply(img)\n",
        "      #img3 = adjust_gamma(img3,gamma=1.5)\n",
        "      img3 = cv2.equalizeHist(img)\n",
        "      img3 = gammaCorrection(img3,0.4)\n",
        "      clahe = cv2.createCLAHE(clipLimit=2.0, tileGridSize=(8,32))\n",
        "      img3 = clahe.apply(img3)#cv2.cvtColor(img3, cv2.COLOR_BGR2GRAY))\n",
        "      clahe = cv2.createCLAHE(clipLimit=0.5, tileGridSize=(8,32))\n",
        "      img4 = clahe.apply(img)\n",
        "      img = segment_image(pid, img, SEGMENTATION_RESULT_TEST)\n",
        "      img2 = segment_image(pid, img2, SEGMENTATION_RESULT_TEST)\n",
        "      img3 = segment_image(pid, img3, SEGMENTATION_RESULT_TEST)\n",
        "      img4 = segment_image(pid, img4, SEGMENTATION_RESULT_TEST)\n",
        "      images1[:, :] = cv2.resize(img, (width, height))\n",
        "      images2[:, :] = cv2.resize(img2, (width, height))\n",
        "      images3[:, :] = cv2.resize(img3, (width, height))\n",
        "      images4[:, :] = cv2.resize(img4, (width, height))\n",
        "      for i in range(0,width):\n",
        "        for j in range(0,height):\n",
        "          if (images1[i,j]!=0 or images2[i,j]!=0 or images3[i,j]!=0 or images4[i,j]!=0):\n",
        "            images5[i,j] = images0[i,j]\n",
        "          #if (images1[i,j]!=0 and images2[i,j]!=0 and images3[i,j]!=0 and images4[i,j]!=0):\n",
        "          #  images5[i,j] = images2[i,j]\n",
        "          #elif (images2[i,j]==0):\n",
        "          #  if (images1[i,j]==0):\n",
        "          #    if (images3[i,j]==0):\n",
        "          #      images5[i,j] = images4[i,j]\n",
        "          #    else:\n",
        "          #      images5[i,j] = images3[i,j]\n",
        "          #  else:\n",
        "          #    images5[i,j] = images1[i,j]\n",
        "          #else:\n",
        "          #  images5[i,j] = images2[i,j]\n",
        "      #cv2_imshow(img)\n",
        "      #cv2_imshow(img2)\n",
        "      #cv2_imshow(images3)\n",
        "      #cv2.imwrite(os.path.join(SEGMENTATION_RESULT_TEST, \"%s.png\" % pid), img)\n",
        "      #pid2 = pid+'2'\n",
        "      #cv2.imwrite(os.path.join(SEGMENTATION_RESULT_TEST, \"%s.png\" % pid2), img2)\n",
        "      #pid3 = pid+'3'\n",
        "      #cv2.imwrite(os.path.join(SEGMENTATION_RESULT_TEST, \"%s.png\" % pid3), img3)\n",
        "      #pid4 = pid+'4'\n",
        "      #cv2.imwrite(os.path.join(SEGMENTATION_RESULT_TEST, \"%s.png\" % pid4), img4)\n",
        "      #pid5 = pid+'5'\n",
        "      #cv2.imwrite(os.path.join(SEGMENTATION_RESULT_TEST, \"%s.png\" % pid5), images5)\n",
        "      pid5 = pid+'0'\n",
        "      cv2.imwrite(os.path.join(SEGMENTATION_RESULT_TEST, \"%s.png\" % pid5), images5)"
      ],
      "execution_count": null,
      "outputs": [
        {
          "output_type": "stream",
          "text": [
            "0it [00:00, ?it/s]\n",
            "100%|██████████| 2/2 [00:25<00:00, 12.84s/it]\n",
            "0it [00:00, ?it/s]\n"
          ],
          "name": "stderr"
        }
      ]
    }
  ]
}