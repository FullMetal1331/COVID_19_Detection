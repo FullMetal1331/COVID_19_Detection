{
  "nbformat": 4,
  "nbformat_minor": 0,
  "metadata": {
    "colab": {
      "name": "final_covid.ipynb",
      "provenance": []
    },
    "kernelspec": {
      "name": "python3",
      "display_name": "Python 3"
    },
    "accelerator": "GPU"
  },
  "cells": [
    {
      "cell_type": "code",
      "metadata": {
        "id": "BYOGIS52pNXH"
      },
      "source": [
        "import os\n",
        "import numpy as np\n",
        "from skimage.filters import unsharp_mask\n",
        "import cv2\n",
        "from google.colab import output\n",
        "from math import e\n",
        " \n",
        "path=\"/content/drive/My Drive/or_dataset/training_set/covid\"\n",
        "\n",
        "dir=r\"/content/drive/My Drive/Enhanced_dataset/training_set/Covid-19\" \n",
        " \n",
        "\n",
        "os.chdir(dir)\n",
        "for fileName in sorted(os.listdir(path)):\n",
        "  image = cv2.imread(os.path.join(path,fileName), 0)\n",
        "  #Median Filter with kernel size 3\n",
        "  img=cv2.medianBlur(image, 3)\n",
        "  rows,cols = img.shape\n",
        "  shape = rows*cols\n",
        "  x = img.reshape(shape)\n",
        "  mv = np.zeros(shape)\n",
        "  enh =np.zeros(shape)\n",
        "  for j in range(shape):\n",
        "    if x[j]<100:\n",
        "      mv[j]=0\n",
        "    elif x[j]>=100 and x[j]<=200:\n",
        "      mv[j]=(0.01*x[j])-1\n",
        "    elif x[j]>200 and x[j]<=255:\n",
        "      mv[j]=1\n",
        "  Mb=2\n",
        "  g_max = np.amax(x)\n",
        "  m=g_max/(0.367879-1)\n",
        "  for j in range(shape):\n",
        "    power=mv[j]**Mb\n",
        "    enh[j]=m*(e**(-1*power)-1)\n",
        "  en_img=enh.reshape(rows, cols)\n",
        "  cv2.imwrite(fileName, en_img)\n",
        "  print(fileName)"
      ],
      "execution_count": null,
      "outputs": []
    }
  ]
}