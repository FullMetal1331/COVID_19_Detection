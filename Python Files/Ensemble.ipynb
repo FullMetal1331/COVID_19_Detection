{
  "nbformat": 4,
  "nbformat_minor": 0,
  "metadata": {
    "colab": {
      "name": "Ensemble.ipynb",
      "provenance": [],
      "toc_visible": true
    },
    "kernelspec": {
      "name": "python3",
      "display_name": "Python 3"
    },
    "accelerator": "GPU"
  },
  "cells": [
    {
      "cell_type": "markdown",
      "metadata": {
        "id": "ouptffH_vC-i"
      },
      "source": [
        "# Ensemble Model\n",
        "\n",
        "\n"
      ]
    },
    {
      "cell_type": "markdown",
      "metadata": {
        "id": "3mMZIyhIvpgP"
      },
      "source": [
        "## Part 1: Importing Libraries"
      ]
    },
    {
      "cell_type": "code",
      "metadata": {
        "id": "1e45OAJGv7hT",
        "colab": {
          "base_uri": "https://localhost:8080/"
        },
        "outputId": "380b65a7-6ddc-48d6-b43e-24da93ecf67b"
      },
      "source": [
        "!pip install -q keras\n",
        "!pip install -U keras-tuner"
      ],
      "execution_count": null,
      "outputs": [
        {
          "output_type": "stream",
          "text": [
            "Collecting keras-tuner\n",
            "\u001b[?25l  Downloading https://files.pythonhosted.org/packages/20/ec/1ef246787174b1e2bb591c95f29d3c1310070cad877824f907faba3dade9/keras-tuner-1.0.2.tar.gz (62kB)\n",
            "\r\u001b[K     |█████▏                          | 10kB 20.6MB/s eta 0:00:01\r\u001b[K     |██████████▍                     | 20kB 12.0MB/s eta 0:00:01\r\u001b[K     |███████████████▋                | 30kB 9.4MB/s eta 0:00:01\r\u001b[K     |████████████████████▉           | 40kB 8.6MB/s eta 0:00:01\r\u001b[K     |██████████████████████████      | 51kB 9.2MB/s eta 0:00:01\r\u001b[K     |███████████████████████████████▎| 61kB 9.6MB/s eta 0:00:01\r\u001b[K     |████████████████████████████████| 71kB 6.0MB/s \n",
            "\u001b[?25hRequirement already satisfied, skipping upgrade: packaging in /usr/local/lib/python3.6/dist-packages (from keras-tuner) (20.4)\n",
            "Requirement already satisfied, skipping upgrade: future in /usr/local/lib/python3.6/dist-packages (from keras-tuner) (0.16.0)\n",
            "Requirement already satisfied, skipping upgrade: numpy in /usr/local/lib/python3.6/dist-packages (from keras-tuner) (1.18.5)\n",
            "Requirement already satisfied, skipping upgrade: tabulate in /usr/local/lib/python3.6/dist-packages (from keras-tuner) (0.8.7)\n",
            "Collecting terminaltables\n",
            "  Downloading https://files.pythonhosted.org/packages/9b/c4/4a21174f32f8a7e1104798c445dacdc1d4df86f2f26722767034e4de4bff/terminaltables-3.1.0.tar.gz\n",
            "Collecting colorama\n",
            "  Downloading https://files.pythonhosted.org/packages/44/98/5b86278fbbf250d239ae0ecb724f8572af1c91f4a11edf4d36a206189440/colorama-0.4.4-py2.py3-none-any.whl\n",
            "Requirement already satisfied, skipping upgrade: tqdm in /usr/local/lib/python3.6/dist-packages (from keras-tuner) (4.41.1)\n",
            "Requirement already satisfied, skipping upgrade: requests in /usr/local/lib/python3.6/dist-packages (from keras-tuner) (2.23.0)\n",
            "Requirement already satisfied, skipping upgrade: scipy in /usr/local/lib/python3.6/dist-packages (from keras-tuner) (1.4.1)\n",
            "Requirement already satisfied, skipping upgrade: scikit-learn in /usr/local/lib/python3.6/dist-packages (from keras-tuner) (0.22.2.post1)\n",
            "Requirement already satisfied, skipping upgrade: pyparsing>=2.0.2 in /usr/local/lib/python3.6/dist-packages (from packaging->keras-tuner) (2.4.7)\n",
            "Requirement already satisfied, skipping upgrade: six in /usr/local/lib/python3.6/dist-packages (from packaging->keras-tuner) (1.15.0)\n",
            "Requirement already satisfied, skipping upgrade: urllib3!=1.25.0,!=1.25.1,<1.26,>=1.21.1 in /usr/local/lib/python3.6/dist-packages (from requests->keras-tuner) (1.24.3)\n",
            "Requirement already satisfied, skipping upgrade: certifi>=2017.4.17 in /usr/local/lib/python3.6/dist-packages (from requests->keras-tuner) (2020.11.8)\n",
            "Requirement already satisfied, skipping upgrade: idna<3,>=2.5 in /usr/local/lib/python3.6/dist-packages (from requests->keras-tuner) (2.10)\n",
            "Requirement already satisfied, skipping upgrade: chardet<4,>=3.0.2 in /usr/local/lib/python3.6/dist-packages (from requests->keras-tuner) (3.0.4)\n",
            "Requirement already satisfied, skipping upgrade: joblib>=0.11 in /usr/local/lib/python3.6/dist-packages (from scikit-learn->keras-tuner) (0.17.0)\n",
            "Building wheels for collected packages: keras-tuner, terminaltables\n",
            "  Building wheel for keras-tuner (setup.py) ... \u001b[?25l\u001b[?25hdone\n",
            "  Created wheel for keras-tuner: filename=keras_tuner-1.0.2-cp36-none-any.whl size=78937 sha256=ac499d57aefca06eb7429742740a71cf3889bcf0eb711d0aa2367b323e9d48b9\n",
            "  Stored in directory: /root/.cache/pip/wheels/bb/a1/8a/7c3de0efb3707a1701b36ebbfdbc4e67aedf6d4943a1f463d6\n",
            "  Building wheel for terminaltables (setup.py) ... \u001b[?25l\u001b[?25hdone\n",
            "  Created wheel for terminaltables: filename=terminaltables-3.1.0-cp36-none-any.whl size=15356 sha256=98606d4c6efd4a7ff6676b932ad71b69141cc4977cb900889c786281f95d2b0c\n",
            "  Stored in directory: /root/.cache/pip/wheels/30/6b/50/6c75775b681fb36cdfac7f19799888ef9d8813aff9e379663e\n",
            "Successfully built keras-tuner terminaltables\n",
            "Installing collected packages: terminaltables, colorama, keras-tuner\n",
            "Successfully installed colorama-0.4.4 keras-tuner-1.0.2 terminaltables-3.1.0\n"
          ],
          "name": "stdout"
        }
      ]
    },
    {
      "cell_type": "code",
      "metadata": {
        "id": "x8qJ9AudtMFH"
      },
      "source": [
        "import tensorflow as tf\n",
        "import numpy as np\n",
        "import matplotlib.pyplot as plt\n",
        "from sklearn.metrics import classification_report, confusion_matrix, accuracy_score, roc_curve, auc\n",
        "from sklearn.preprocessing import label_binarize\n",
        "from keras.preprocessing.image import ImageDataGenerator\n",
        "from keras.preprocessing import image\n",
        "from keras.layers import GlobalAveragePooling2D, Dense, Dropout, Activation, Flatten, Concatenate, Input\n",
        "from keras.models import Model, load_model\n",
        "from keras.layers.merge import concatenate\n",
        "from keras.utils import plot_model\n",
        "from keras.callbacks import ModelCheckpoint, EarlyStopping, ReduceLROnPlateau\n",
        "from keras.optimizers import Adam\n",
        "from kerastuner.tuners.bayesian import BayesianOptimization\n",
        "from tensorflow.keras.applications import *"
      ],
      "execution_count": null,
      "outputs": []
    },
    {
      "cell_type": "code",
      "metadata": {
        "id": "rWksbEhd9gn_",
        "colab": {
          "base_uri": "https://localhost:8080/"
        },
        "outputId": "9350563a-5a98-4079-a4c9-f2837c8dc623"
      },
      "source": [
        "print(tf.__version__)\n"
      ],
      "execution_count": null,
      "outputs": [
        {
          "output_type": "stream",
          "text": [
            "2.3.0\n"
          ],
          "name": "stdout"
        }
      ]
    },
    {
      "cell_type": "markdown",
      "metadata": {
        "id": "FfxZy2LovyOj"
      },
      "source": [
        "## Part 2: Mounting Google Drive"
      ]
    },
    {
      "cell_type": "code",
      "metadata": {
        "id": "TsUQ6Oh8tjVW",
        "colab": {
          "base_uri": "https://localhost:8080/"
        },
        "outputId": "f9cce270-a9ff-44fa-c982-05aaf2c54f97"
      },
      "source": [
        "from google.colab import drive\n",
        "drive.mount('/content/drive/')"
      ],
      "execution_count": null,
      "outputs": [
        {
          "output_type": "stream",
          "text": [
            "Mounted at /content/drive/\n"
          ],
          "name": "stdout"
        }
      ]
    },
    {
      "cell_type": "markdown",
      "metadata": {
        "id": "YgbaKHVAv-Ui"
      },
      "source": [
        "## Part 3: Dataset Splitting"
      ]
    },
    {
      "cell_type": "markdown",
      "metadata": {
        "id": "UGDXv_bwwNvr"
      },
      "source": [
        "### Preprocessing"
      ]
    },
    {
      "cell_type": "code",
      "metadata": {
        "id": "jL4uCySMuFeW"
      },
      "source": [
        "trainDatagen = ImageDataGenerator(\n",
        "    rotation_range=0.15,\n",
        "    width_shift_range=0.15,\n",
        "    height_shift_range=0.15,\n",
        "    shear_range=0.15,\n",
        "    zoom_range=0.15,\n",
        "    fill_mode='nearest',\n",
        "    horizontal_flip=True,\n",
        "    validation_split=0.20\n",
        ")"
      ],
      "execution_count": null,
      "outputs": []
    },
    {
      "cell_type": "markdown",
      "metadata": {
        "id": "I8rUPRWCwU-x"
      },
      "source": [
        "### Training Set"
      ]
    },
    {
      "cell_type": "code",
      "metadata": {
        "id": "XI0qRIbNuIN6"
      },
      "source": [
        "training_set = trainDatagen.flow_from_directory(\n",
        "    directory='/content/drive/My Drive/final_dataset_seg_enh_aug/training_set',\n",
        "    target_size=(224, 224),\n",
        "    color_mode=\"rgb\",\n",
        "    batch_size=128,\n",
        "    class_mode=\"categorical\",\n",
        "    shuffle=True,\n",
        "    subset='training'\n",
        ")"
      ],
      "execution_count": null,
      "outputs": []
    },
    {
      "cell_type": "markdown",
      "metadata": {
        "id": "G0jdnWIawYuq"
      },
      "source": [
        "### Validation Set"
      ]
    },
    {
      "cell_type": "code",
      "metadata": {
        "id": "cSoG3TS5uLTB"
      },
      "source": [
        "validation_set = trainDatagen.flow_from_directory(\n",
        "    directory='/content/drive/My Drive/final_dataset_seg_enh_aug/training_set',\n",
        "    target_size=(224, 224),\n",
        "    color_mode=\"rgb\",\n",
        "    batch_size=128,\n",
        "    class_mode=\"categorical\",\n",
        "    shuffle=True,\n",
        "    subset='validation'\n",
        ")"
      ],
      "execution_count": null,
      "outputs": []
    },
    {
      "cell_type": "markdown",
      "metadata": {
        "id": "ViLH05W9wb0h"
      },
      "source": [
        "### Test Set"
      ]
    },
    {
      "cell_type": "code",
      "metadata": {
        "id": "vq3o4XwOuN10",
        "colab": {
          "base_uri": "https://localhost:8080/"
        },
        "outputId": "119323ec-8332-4943-8a12-ab3348801653"
      },
      "source": [
        "test_set = ImageDataGenerator().flow_from_directory(\n",
        "    directory='/content/drive/My Drive/final_dataset_seg_enh_aug/testing_set',\n",
        "    target_size=(224, 224),\n",
        "    shuffle=False\n",
        ")"
      ],
      "execution_count": null,
      "outputs": [
        {
          "output_type": "stream",
          "text": [
            "Found 600 images belonging to 3 classes.\n"
          ],
          "name": "stdout"
        }
      ]
    },
    {
      "cell_type": "markdown",
      "metadata": {
        "id": "N9rl78dfwvUX"
      },
      "source": [
        "## Part 3: Building CNN"
      ]
    },
    {
      "cell_type": "markdown",
      "metadata": {
        "id": "Xp-QmOzvw05G"
      },
      "source": [
        "### Defining Input Layer"
      ]
    },
    {
      "cell_type": "code",
      "metadata": {
        "id": "UPNGXd2BuRLx"
      },
      "source": [
        "visible = Input(shape=(224,224,3))"
      ],
      "execution_count": null,
      "outputs": []
    },
    {
      "cell_type": "markdown",
      "metadata": {
        "id": "eBRirYDyxBUz"
      },
      "source": [
        "### ResNet50"
      ]
    },
    {
      "cell_type": "code",
      "metadata": {
        "id": "UOj2uiCkuRu7"
      },
      "source": [
        "resnet_model = ResNet50(input_tensor=visible,weights='imagenet',include_top=False)\n",
        "\n",
        "last_layer = resnet_model.output\n",
        "x = GlobalAveragePooling2D()(last_layer)\n",
        "\n",
        "out1 = Flatten()(x)"
      ],
      "execution_count": null,
      "outputs": []
    },
    {
      "cell_type": "code",
      "metadata": {
        "id": "SJWIUpQDuULp"
      },
      "source": [
        "for layer in resnet_model.layers:\n",
        "\t\tlayer.trainable = False\n",
        "\t\tlayer._name = 'resnet' + '_' + layer.name"
      ],
      "execution_count": null,
      "outputs": []
    },
    {
      "cell_type": "markdown",
      "metadata": {
        "id": "tV-51aw_xJwY"
      },
      "source": [
        "### MobileNet"
      ]
    },
    {
      "cell_type": "code",
      "metadata": {
        "id": "QJR27SekuZqB"
      },
      "source": [
        "mobilenet_model = MobileNetV2(input_tensor=visible,weights='imagenet',include_top=False)\n",
        "\n",
        "last_layer = mobilenet_model.output\n",
        "x = GlobalAveragePooling2D()(last_layer)\n",
        "\n",
        "out2 = Flatten()(x)"
      ],
      "execution_count": null,
      "outputs": []
    },
    {
      "cell_type": "code",
      "metadata": {
        "id": "qgFU2dkUucMV"
      },
      "source": [
        "for layer in mobilenet_model.layers:\n",
        "\t\tlayer.trainable = False\n",
        "\t\tlayer._name = 'mobilenet' + '_' + layer.name"
      ],
      "execution_count": null,
      "outputs": []
    },
    {
      "cell_type": "markdown",
      "metadata": {
        "id": "mZW2e4P8xO83"
      },
      "source": [
        "### VGG16"
      ]
    },
    {
      "cell_type": "code",
      "metadata": {
        "id": "DJ07y2toueZZ"
      },
      "source": [
        "vgg_model = VGG16(input_tensor=visible,weights='imagenet',include_top=False)\n",
        "\n",
        "last_layer = vgg_model.output\n",
        "x = GlobalAveragePooling2D()(last_layer)\n",
        "\n",
        "out3 = Flatten()(x)"
      ],
      "execution_count": null,
      "outputs": []
    },
    {
      "cell_type": "code",
      "metadata": {
        "id": "yv1GOFAguhEv"
      },
      "source": [
        "for layer in vgg_model.layers:\n",
        "\t\tlayer.trainable = False\n",
        "\t\tlayer._name = 'vgg' + '_' + layer.name"
      ],
      "execution_count": null,
      "outputs": []
    },
    {
      "cell_type": "markdown",
      "metadata": {
        "id": "S7D_tpZxxW5I"
      },
      "source": [
        "### Concatenating all the features of ensemble model"
      ]
    },
    {
      "cell_type": "code",
      "metadata": {
        "id": "LBnARknmuoiB"
      },
      "source": [
        "def build_model(hp):\n",
        "\n",
        "  merge = concatenate([out1, out2, out3])\n",
        "  x = Dense(hp.Int('d-1', 128, 1024, step=32), activation='relu')(merge)\n",
        "  x = Dropout(hp.Float('do-1', 0.1, 0.8, step=0.1))(x)\n",
        "  x = Dense(hp.Int('d-2', 128, 1024, step=32), activation='relu')(x)\n",
        "  x = Dropout(hp.Float('do-2', 0.1, 0.8, step=0.1))(x)\n",
        "  output = Dense(3, activation='softmax',name='output_layer')(x)\n",
        "  model = Model(visible, output)\n",
        "  \n",
        "  model.compile(\n",
        "        optimizer=Adam(hp.Float('learning_rate', 1e-4, 1e-2, sampling='log')),\n",
        "        loss='categorical_crossentropy',\n",
        "        metrics=['accuracy'])  \n",
        "  return model"
      ],
      "execution_count": null,
      "outputs": []
    },
    {
      "cell_type": "markdown",
      "metadata": {
        "id": "etidfFwcyMiv"
      },
      "source": [
        "### Applying Bayes Optimization"
      ]
    },
    {
      "cell_type": "code",
      "metadata": {
        "id": "i0BPSgERupTd"
      },
      "source": [
        "tuner = BayesianOptimization(\n",
        "    build_model,\n",
        "    objective='val_accuracy',\n",
        "    max_trials=3,\n",
        "    executions_per_trial=1,\n",
        "    directory='my_dir_final',\n",
        "    project_name='model')"
      ],
      "execution_count": null,
      "outputs": []
    },
    {
      "cell_type": "code",
      "metadata": {
        "id": "Wei_oi67urnS"
      },
      "source": [
        "tuner.search(training_set,\n",
        "             epochs=3,\n",
        "             validation_data=validation_set)"
      ],
      "execution_count": null,
      "outputs": []
    },
    {
      "cell_type": "code",
      "metadata": {
        "id": "jwXvLY1MuuWf"
      },
      "source": [
        "model = tuner.get_best_models(1)[0]"
      ],
      "execution_count": null,
      "outputs": []
    },
    {
      "cell_type": "markdown",
      "metadata": {
        "id": "yE9_OvHRytBc"
      },
      "source": [
        "### Fitting on Test Set"
      ]
    },
    {
      "cell_type": "code",
      "metadata": {
        "id": "KEfzv31QuxiX"
      },
      "source": [
        "filepath=\"/content/drive/My Drive/models/ensemble/ensemble.hdf5\"\n",
        "checkpoint = ModelCheckpoint(filepath, monitor='val_loss', verbose=1, mode='min', save_best_only=True)"
      ],
      "execution_count": null,
      "outputs": []
    },
    {
      "cell_type": "code",
      "metadata": {
        "id": "N4OeQ53n2eoa"
      },
      "source": [
        "history = model.fit(x = training_set, validation_data = validation_set, epochs = 25, callbacks = [checkpoint])"
      ],
      "execution_count": null,
      "outputs": []
    },
    {
      "cell_type": "markdown",
      "metadata": {
        "id": "paUVPceK0a_R"
      },
      "source": [
        "### Saving the training history"
      ]
    },
    {
      "cell_type": "code",
      "metadata": {
        "id": "-hsjQM-N0mph"
      },
      "source": [
        "np.save(\"/content/drive/My Drive/models/ensemble/ensemble.npy\",history.history)"
      ],
      "execution_count": null,
      "outputs": []
    },
    {
      "cell_type": "markdown",
      "metadata": {
        "id": "Eh7Ee9suzVrG"
      },
      "source": [
        "## Part 4: Evaluating the model"
      ]
    },
    {
      "cell_type": "code",
      "metadata": {
        "id": "onoJhA5u01HJ"
      },
      "source": [
        "history=np.load(\"/content/drive/My Drive/models/ensemble/ensemble.npy\",allow_pickle='TRUE').item()\n",
        "import matplotlib.pyplot as plt\n",
        "plt.plot(history['accuracy'])\n",
        "plt.plot(history['val_accuracy'])\n",
        "plt.title('model accuracy')\n",
        "plt.ylabel('accuracy')\n",
        "plt.xlabel('epoch')\n",
        "plt.legend(['train', 'test'], loc='upper left')\n",
        "plt.show()\n",
        "# summarize history for loss\n",
        "plt.plot(history['loss'])\n",
        "plt.plot(history['val_loss'])\n",
        "plt.title('model loss')\n",
        "plt.ylabel('loss')\n",
        "plt.xlabel('epoch')\n",
        "plt.legend(['train', 'test'], loc='upper left')\n",
        "plt.show()"
      ],
      "execution_count": null,
      "outputs": []
    },
    {
      "cell_type": "code",
      "metadata": {
        "id": "T7AAn8Ncu6PP",
        "colab": {
          "base_uri": "https://localhost:8080/"
        },
        "outputId": "5f2f8876-75b8-447f-d3e7-eb63251e488f"
      },
      "source": [
        "model = load_model(\"/content/drive/My Drive/models/ensemble/ensemble.hdf5\")\n",
        "Y_pred = model.predict(test_set)\n",
        "y_pred = np.argmax(Y_pred, axis=1)\n",
        "\n",
        "print('Confusion Matrix')\n",
        "print(confusion_matrix(test_set.classes, y_pred))\n",
        "print('Classification Report')\n",
        "print(classification_report(test_set.classes, y_pred))"
      ],
      "execution_count": null,
      "outputs": [
        {
          "output_type": "stream",
          "text": [
            "WARNING:tensorflow:Error in loading the saved optimizer state. As a result, your model is starting with a freshly initialized optimizer.\n",
            "Confusion Matrix\n",
            "[[192   5   3]\n",
            " [  0 199   1]\n",
            " [  0  16 184]]\n",
            "Classification Report\n",
            "              precision    recall  f1-score   support\n",
            "\n",
            "           0       1.00      0.96      0.98       200\n",
            "           1       0.90      0.99      0.95       200\n",
            "           2       0.98      0.92      0.95       200\n",
            "\n",
            "    accuracy                           0.96       600\n",
            "   macro avg       0.96      0.96      0.96       600\n",
            "weighted avg       0.96      0.96      0.96       600\n",
            "\n"
          ],
          "name": "stdout"
        }
      ]
    },
    {
      "cell_type": "code",
      "metadata": {
        "id": "vtskkj-VSWUL",
        "colab": {
          "base_uri": "https://localhost:8080/",
          "height": 475
        },
        "outputId": "ae835a1d-50d5-457b-b3f1-bedd205cda9b"
      },
      "source": [
        "import pandas as pd\n",
        "import seaborn as sn\n",
        "data=confusion_matrix(test_set.classes, y_pred)\n",
        "class_names = ['Covid-19', 'Normal', 'Pneumonia']\n",
        "df_cm = pd.DataFrame(data, columns=class_names, index = class_names)\n",
        "df_cm.index.name = 'ACTUAL'\n",
        "df_cm.columns.name = 'PREDICTED'\n",
        "plt.figure(figsize = (10,7))\n",
        "sn.set(font_scale=1.4)#for label size\n",
        "sn.heatmap(df_cm, cmap=\"Blues\", annot=True,annot_kws={\"size\": 16}, fmt=\"d\")# font size"
      ],
      "execution_count": null,
      "outputs": [
        {
          "output_type": "execute_result",
          "data": {
            "text/plain": [
              "<matplotlib.axes._subplots.AxesSubplot at 0x7f8268513f60>"
            ]
          },
          "metadata": {
            "tags": []
          },
          "execution_count": 15
        },
        {
          "output_type": "display_data",
          "data": {
            "image/png": "[encoded data removed]",
            "text/plain": [
              "<Figure size 720x504 with 2 Axes>"
            ]
          },
          "metadata": {
            "tags": [],
            "needs_background": "light"
          }
        }
      ]
    },
    {
      "cell_type": "code",
      "metadata": {
        "colab": {
          "base_uri": "https://localhost:8080/",
          "height": 450
        },
        "id": "vqJWIYBBP5Ia",
        "outputId": "e6714558-4405-4b82-b2b7-7185da113044"
      },
      "source": [
        "import numpy as np\n",
        "from scipy import interp\n",
        "import matplotlib.pyplot as plt\n",
        "from itertools import cycle\n",
        "from sklearn.metrics import roc_curve, auc\n",
        "\n",
        "# Plot linewidth.\n",
        "lw = 2\n",
        "n_classes=3\n",
        "# Compute ROC curve and ROC area for each class\n",
        "fpr = dict()\n",
        "tpr = dict()\n",
        "roc_auc = dict()\n",
        "\n",
        "\n",
        "y_test=test_set.classes\n",
        "y_test = label_binarize(y_test, classes=[0, 1, 2])\n",
        "y_pred = label_binarize(y_pred, classes=[0, 1, 2])\n",
        "n_classes = y_test.shape[1]\n",
        "print(y_test)\n",
        "for i in range(n_classes):\n",
        "    fpr[i], tpr[i], _ = roc_curve(y_test[:, i], y_pred[:, i])\n",
        "    roc_auc[i] = auc(fpr[i], tpr[i])\n",
        "\n",
        "# Compute micro-average ROC curve and ROC area\n",
        "fpr[\"micro\"], tpr[\"micro\"], _ = roc_curve(y_test.ravel(), y_pred.ravel())\n",
        "roc_auc[\"micro\"] = auc(fpr[\"micro\"], tpr[\"micro\"])\n",
        "\n",
        "# Compute macro-average ROC curve and ROC area\n",
        "\n",
        "# First aggregate all false positive rates\n",
        "all_fpr = np.unique(np.concatenate([fpr[i] for i in range(n_classes)]))\n",
        "\n",
        "# Then interpolate all ROC curves at this points\n",
        "mean_tpr = np.zeros_like(all_fpr)\n",
        "for i in range(n_classes):\n",
        "    mean_tpr += interp(all_fpr, fpr[i], tpr[i])\n",
        "\n",
        "# Finally average it and compute AUC\n",
        "mean_tpr /= n_classes\n",
        "\n",
        "fpr[\"macro\"] = all_fpr\n",
        "tpr[\"macro\"] = mean_tpr\n",
        "roc_auc[\"macro\"] = auc(fpr[\"macro\"], tpr[\"macro\"])\n",
        "\n",
        "# Plot all ROC curves\n",
        "plt.figure(1)\n",
        "plt.plot(fpr[\"micro\"], tpr[\"micro\"],\n",
        "         label='micro-average ROC curve (area = {0:0.2f})'\n",
        "               ''.format(roc_auc[\"micro\"]),\n",
        "         color='deeppink', linestyle=':', linewidth=4)\n",
        "\n",
        "plt.plot(fpr[\"macro\"], tpr[\"macro\"],\n",
        "         label='macro-average ROC curve (area = {0:0.2f})'\n",
        "               ''.format(roc_auc[\"macro\"]),\n",
        "         color='navy', linestyle=':', linewidth=4)\n",
        "\n",
        "colors = cycle(['aqua', 'darkorange', 'cornflowerblue'])\n",
        "for i, color in zip(range(n_classes), colors):\n",
        "    plt.plot(fpr[i], tpr[i], color=color, lw=lw,\n",
        "             label='ROC curve of class {0} (area = {1:0.2f})'\n",
        "             ''.format(i, roc_auc[i]))\n",
        "\n",
        "plt.plot([0, 1], [0, 1], 'k--', lw=lw)\n",
        "plt.xlim([0.0, 1.0])\n",
        "plt.ylim([0.0, 1.05])\n",
        "plt.xlabel('False Positive Rate')\n",
        "plt.ylabel('True Positive Rate')\n",
        "plt.title('Some extension of Receiver operating characteristic to multi-class')\n",
        "plt.legend(loc=\"lower right\")\n",
        "plt.show()\n"
      ],
      "execution_count": null,
      "outputs": [
        {
          "output_type": "stream",
          "text": [
            "[[1 0 0]\n",
            " [1 0 0]\n",
            " [1 0 0]\n",
            " ...\n",
            " [0 0 1]\n",
            " [0 0 1]\n",
            " [0 0 1]]\n"
          ],
          "name": "stdout"
        },
        {
          "output_type": "stream",
          "text": [
            "/usr/local/lib/python3.6/dist-packages/ipykernel_launcher.py:37: DeprecationWarning: scipy.interp is deprecated and will be removed in SciPy 2.0.0, use numpy.interp instead\n"
          ],
          "name": "stderr"
        },
        {
          "output_type": "display_data",
          "data": {
            "image/png": "[encoded data removed]",
            "text/plain": [
              "<Figure size 432x288 with 1 Axes>"
            ]
          },
          "metadata": {
            "tags": [],
            "needs_background": "light"
          }
        }
      ]
    }
  ]
}