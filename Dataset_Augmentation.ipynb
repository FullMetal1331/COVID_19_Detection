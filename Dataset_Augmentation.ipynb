{
  "nbformat": 4,
  "nbformat_minor": 0,
  "metadata": {
    "colab": {
      "name": "cv2_transform.ipynb",
      "provenance": []
    },
    "kernelspec": {
      "name": "python3",
      "display_name": "Python 3"
    }
  },
  "cells": [
    {
      "cell_type": "code",
      "metadata": {
        "id": "3E7yysvP6JsC"
      },
      "source": [
        "#importing some useful packages\n",
        "import matplotlib.pyplot as plt\n",
        "import matplotlib.gridspec as gridspec\n",
        "import cv2\n",
        "import os\n",
        "import glob\n",
        "from tqdm import tqdm\n",
        "import time\n",
        "\n",
        "import numpy as np\n",
        "import random\n",
        "%matplotlib inline\n",
        "import matplotlib.image as mpimg"
      ],
      "execution_count": null,
      "outputs": []
    },
    {
      "cell_type": "code",
      "metadata": {
        "id": "Minxk2EE9eBF",
        "colab": {
          "base_uri": "https://localhost:8080/",
          "height": 35
        },
        "outputId": "3197ab14-ea8f-440c-fd2c-385c896deffe"
      },
      "source": [
        "from google.colab import drive\n",
        "drive.mount('/content/drive/')"
      ],
      "execution_count": null,
      "outputs": [
        {
          "output_type": "stream",
          "text": [
            "Mounted at /content/drive/\n"
          ],
          "name": "stdout"
        }
      ]
    },
    {
      "cell_type": "code",
      "metadata": {
        "id": "t6VquvaOY6S2"
      },
      "source": [
        "def augment_brightness_camera_images(image):\n",
        "    image1 = cv2.cvtColor(image,cv2.COLOR_RGB2HSV)\n",
        "    random_bright = .5+np.random.uniform()\n",
        "    print(random_bright)\n",
        "    image1[:,:,2] = image1[:,:,2]*random_bright\n",
        "    image1 = cv2.cvtColor(image1,cv2.COLOR_HSV2RGB)\n",
        "    return image1\n",
        "\n",
        "def increase_brightness(img, value=30):\n",
        "    hsv = cv2.cvtColor(img, cv2.COLOR_BGR2HSV)\n",
        "    h, s, v = cv2.split(hsv)\n",
        "\n",
        "    lim = 255 - value\n",
        "    v[v > lim] = 255\n",
        "    v[v <= lim] += value\n",
        "\n",
        "    final_hsv = cv2.merge((h, s, v))\n",
        "    img = cv2.cvtColor(final_hsv, cv2.COLOR_HSV2BGR)\n",
        "    return img\n",
        "\n",
        "def transform_image(img,ang_range,shear_range):#,trans_range):\n",
        "    # Rotation\n",
        "\n",
        "    ang_rot = np.random.uniform(ang_range)-ang_range/2\n",
        "    rows,cols,ch = img.shape    \n",
        "    Rot_M = cv2.getRotationMatrix2D((cols/2,rows/2),ang_rot,1)\n",
        "\n",
        "    # Translation\n",
        "    #tr_x = trans_range*np.random.uniform()-trans_range/2\n",
        "    #tr_y = trans_range*np.random.uniform()-trans_range/2\n",
        "    #Trans_M = np.float32([[1,0,tr_x],[0,1,tr_y]])\n",
        "\n",
        "    # Shear\n",
        "    pts1 = np.float32([[5,5],[20,5],[5,20]])\n",
        "\n",
        "    pt1 = 5+shear_range*np.random.uniform()-shear_range/2\n",
        "    pt2 = 20+shear_range*np.random.uniform()-shear_range/2\n",
        "    \n",
        "    # Brightness \n",
        "    \n",
        "\n",
        "    pts2 = np.float32([[pt1,5],[pt2,pt1],[5,pt2]])\n",
        "\n",
        "    shear_M = cv2.getAffineTransform(pts1,pts2)\n",
        "        \n",
        "    img = cv2.warpAffine(img,Rot_M,(cols,rows))\n",
        "    #img = cv2.warpAffine(img,Trans_M,(cols,rows))\n",
        "    img = cv2.warpAffine(img,shear_M,(cols,rows))\n",
        "    \n",
        "    #img = augment_brightness_camera_images(img)\n",
        "    \n",
        "    return img"
      ],
      "execution_count": null,
      "outputs": []
    },
    {
      "cell_type": "code",
      "metadata": {
        "id": "EK5pP4fuZPdg",
        "colab": {
          "base_uri": "https://localhost:8080/",
          "height": 54
        },
        "outputId": "64bedfc1-d6b3-4a30-d053-2170f7e03a71"
      },
      "source": [
        "ini_path = \"/content/drive/My Drive/\";\n",
        "INPUT_DIR=os.path.join(ini_path);\n",
        "SOURCE_DIR=os.path.join(INPUT_DIR,\"final_report_images\",\"source\")\n",
        "RESULT_DIR=os.path.join(INPUT_DIR,\"final_report_images\",\"transform\")\n",
        "print(SOURCE_DIR)\n",
        "print(RESULT_DIR)"
      ],
      "execution_count": null,
      "outputs": [
        {
          "output_type": "stream",
          "text": [
            "/content/drive/My Drive/final_report_images/source\n",
            "/content/drive/My Drive/final_report_images/transform\n"
          ],
          "name": "stdout"
        }
      ]
    },
    {
      "cell_type": "code",
      "metadata": {
        "id": "ItBt8ReEY8CQ"
      },
      "source": [
        "j=0\n",
        "for file in tqdm(glob.glob(os.path.join(SOURCE_DIR,\"*.png\"))):\n",
        "  img = cv2.imread(file)\n",
        "  #j+=1\n",
        "  for i in range(8):\n",
        "    #img = increase_brightness(img,value=20)\n",
        "    img = transform_image(img,5,5)\n",
        "    filename = os.path.basename(file);\n",
        "    name = os.path.splitext(filename)[0]+\"_\"+str(i+1)+'.png'\n",
        "    print(name)\n",
        "    cv2.imwrite(os.path.join(RESULT_DIR,name),img)\n",
        "  #if j>1:\n",
        "    #break"
      ],
      "execution_count": null,
      "outputs": []
    },
    {
      "cell_type": "code",
      "metadata": {
        "id": "o3dxFQXE9rGE"
      },
      "source": [
        "#Brightness\n",
        "def brightness(img, low, high):\n",
        "    value = random.uniform(low, high)\n",
        "    hsv = cv2.cvtColor(img, cv2.COLOR_BGR2HSV)\n",
        "    hsv = np.array(hsv, dtype = np.float64)\n",
        "    hsv[:,:,1] = hsv[:,:,1]*value\n",
        "    hsv[:,:,1][hsv[:,:,1]>255]  = 255\n",
        "    hsv[:,:,2] = hsv[:,:,2]*value \n",
        "    hsv[:,:,2][hsv[:,:,2]>255]  = 255\n",
        "    hsv = np.array(hsv, dtype = np.uint8)\n",
        "    img = cv2.cvtColor(hsv, cv2.COLOR_HSV2BGR)\n",
        "    return img\n",
        "\n",
        "#Zoom\n",
        "def fill(img, h, w):\n",
        "    img = cv2.resize(img, (h, w), cv2.INTER_CUBIC)\n",
        "    return img\n",
        "\n",
        "def zoom(img, value):\n",
        "    if value > 1 or value < 0:\n",
        "        print('Value for zoom should be less than 1 and greater than 0')\n",
        "        return img\n",
        "    value = random.uniform(value, 1)\n",
        "    h, w = img.shape[:2]\n",
        "    h_taken = int(value*h)\n",
        "    w_taken = int(value*w)\n",
        "    h_start = random.randint(0, h-h_taken)\n",
        "    w_start = random.randint(0, w-w_taken)\n",
        "    img = img[h_start:h_start+h_taken, w_start:w_start+w_taken, :]\n",
        "    img = fill(img, h, w)\n",
        "    return img\n",
        "\n",
        "#horizontal flip\n",
        "def horizontal_flip(img, flag):\n",
        "    if flag:\n",
        "        return cv2.flip(img, 1)\n",
        "    else:\n",
        "        return img\n",
        "\n",
        "#shear\n",
        "def shear(img,shear_range):\n",
        "  rows,cols,ch = img.shape\n",
        "  pts1 = np.float32([[5,5],[20,5],[5,20]])\n",
        "  pt1 = 5+shear_range*np.random.uniform()-shear_range/2\n",
        "  pt2 = 20+shear_range*np.random.uniform()-shear_range/2\n",
        "  pts2 = np.float32([[pt1,5],[pt2,pt1],[5,pt2]])\n",
        "  shear_M = cv2.getAffineTransform(pts1,pts2)\n",
        "  img = cv2.warpAffine(img,shear_M,(cols,rows))\n",
        "  return img\n",
        "\n",
        "#increase sharpness\n",
        "#def inc_con(img):\n",
        "\n",
        "#rotate\n",
        "def rotate(img,ang_range):\n",
        "  ang_rot = np.random.uniform(ang_range/2,ang_range)\n",
        "  temp = np.random.randint(100)\n",
        "  if (temp>50):\n",
        "    ang_rot *= -1\n",
        "  rows,cols,ch = img.shape    \n",
        "  Rot_M = cv2.getRotationMatrix2D((cols/2,rows/2),ang_rot,1)\n",
        "  img = cv2.warpAffine(img,Rot_M,(cols,rows))\n",
        "  return img"
      ],
      "execution_count": null,
      "outputs": []
    },
    {
      "cell_type": "code",
      "metadata": {
        "id": "CmD1j-fIQZZ0"
      },
      "source": [
        "test_file = os.path.join(SOURCE_DIR,\"KGlCXR_1_2.png\")\n",
        "name = \"KGlCXR_1_2\"\n",
        "file_ext = \".png\"\n",
        "img = cv2.imread(test_file)\n",
        "name2 = name+\"1\"+file_ext\n",
        "cv2.imwrite(os.path.join(RESULT_DIR,name2),brightness(img,0.8,1.5))\n",
        "\n",
        "name2 = name+\"2\"+file_ext\n",
        "cv2.imwrite(os.path.join(RESULT_DIR,name2),zoom(img,0.75))\n",
        "time.sleep(2)\n",
        "name2 = name+\"3\"+file_ext\n",
        "cv2.imwrite(os.path.join(RESULT_DIR,name2),horizontal_flip(img,1))\n",
        "time.sleep(2)\n",
        "name2 = name+\"4\"+file_ext\n",
        "cv2.imwrite(os.path.join(RESULT_DIR,name2),shear(img,2.5))\n",
        "time.sleep(2)"
      ],
      "execution_count": null,
      "outputs": []
    },
    {
      "cell_type": "code",
      "metadata": {
        "id": "-eBzFuf0YgUM",
        "colab": {
          "base_uri": "https://localhost:8080/",
          "height": 72
        },
        "outputId": "31cd520b-d2ed-4920-95db-200b1e3b0300"
      },
      "source": [
        "types = [\"*.png\",\"*.jpg\",\"*.jpeg\"]\n",
        "for i in range(0,3):\n",
        "  for file in tqdm(glob.glob(os.path.join(SOURCE_DIR,types[i]))):\n",
        "    #for i in range(1,7):\n",
        "    #file = SOURCE_DIR+'/KGlCXR_'+str(i)+'_2.png'\n",
        "    #print(file)\n",
        "    #if(i<169):\n",
        "      #i += 1\n",
        "      #continue\n",
        "    #filename = os.path.basename(file);\n",
        "    #name = os.path.splitext(filename)[0]\n",
        "    #if(name.find('b')!=-1 or name.find('h')!=-1 or name.find('r')!=-1):\n",
        "      #os.remove(file)\n",
        "    #continue\n",
        "    img = cv2.imread(file)\n",
        "    img_h = horizontal_flip(img,1)\n",
        "    #img_b = brightness(img,1.2,2)\n",
        "    #img_b_h = brightness(img_h,1.2,2)\n",
        "    img_r = rotate(img,45)\n",
        "    img_r_h = rotate(img_h,45)\n",
        "    #img_r_b = rotate(img_b,60)\n",
        "    #img_r_b_h = rotate(img_b_h,60)\n",
        "    img_z = zoom(img,random.uniform(0.7,0.71))\n",
        "    img_z_h = zoom(img_h,random.uniform(0.7,0.71))\n",
        "    #img_z_b = zoom(img_b,random.uniform(0.7,0.9))\n",
        "    #img_z_b_h = zoom(img_b_h,random.uniform(0.7,0.9))\n",
        "    #img_s = shear(img,random.uniform(2,3))\n",
        "    #img_s_h = shear(img_h,random.uniform(2,3))\n",
        "    #img_s_b = shear(img_b,random.uniform(2,3))\n",
        "    #img_s_b_h = shear(img_b_h,random.uniform(2,3))\n",
        "    #img_s_z = shear(img_z,random.uniform(2,2.75))\n",
        "    #img_s_z_h = shear(img_z_h,random.uniform(2,2.75))\n",
        "    #img_s_z_b = shear(img_z_b,random.uniform(2,2.75))\n",
        "    #img_s_z_b_h = shear(img_z_b_h,random.uniform(2,2.75))\n",
        "    filename = os.path.basename(file);\n",
        "    chgs = \"o\"\n",
        "    name = os.path.splitext(filename)[0]+\"_\"+chgs+'.png'\n",
        "    cv2.imwrite(os.path.join(RESULT_DIR,name),img)\n",
        "    chgs = \"h\"\n",
        "    name = os.path.splitext(filename)[0]+\"_\"+chgs+'.png'\n",
        "    cv2.imwrite(os.path.join(RESULT_DIR,name),img_h)\n",
        "    chgs = \"b\"\n",
        "    name = os.path.splitext(filename)[0]+\"_\"+chgs+'.png'\n",
        "    #cv2.imwrite(os.path.join(RESULT_DIR,name),img_b)\n",
        "    chgs = \"b_h\"\n",
        "    name = os.path.splitext(filename)[0]+\"_\"+chgs+'.png'\n",
        "    #cv2.imwrite(os.path.join(RESULT_DIR,name),img_b_h)\n",
        "    chgs = \"r\"\n",
        "    name = os.path.splitext(filename)[0]+\"_\"+chgs+'.png'\n",
        "    cv2.imwrite(os.path.join(RESULT_DIR,name),img_r)\n",
        "    chgs = \"r_h\"\n",
        "    name = os.path.splitext(filename)[0]+\"_\"+chgs+'.png'\n",
        "    cv2.imwrite(os.path.join(RESULT_DIR,name),img_r_h)\n",
        "    chgs = \"r_b\"\n",
        "    name = os.path.splitext(filename)[0]+\"_\"+chgs+'.png'\n",
        "    #cv2.imwrite(os.path.join(RESULT_DIR,name),img_r_b)\n",
        "    chgs = \"r_b_h\"\n",
        "    name = os.path.splitext(filename)[0]+\"_\"+chgs+'.png'\n",
        "    #cv2.imwrite(os.path.join(RESULT_DIR,name),img_r_b_h)\n",
        "    chgs = \"z\"\n",
        "    name = os.path.splitext(filename)[0]+\"_\"+chgs+'.png'\n",
        "    cv2.imwrite(os.path.join(RESULT_DIR,name),img_z)\n",
        "    chgs = \"z_h\"\n",
        "    name = os.path.splitext(filename)[0]+\"_\"+chgs+'.png'\n",
        "    cv2.imwrite(os.path.join(RESULT_DIR,name),img_z_h)\n",
        "    chgs = \"s\"\n",
        "    name = os.path.splitext(filename)[0]+\"_\"+chgs+'.png'\n",
        "    #cv2.imwrite(os.path.join(RESULT_DIR,name),img_s)\n",
        "    chgs = \"s_h\"\n",
        "    name = os.path.splitext(filename)[0]+\"_\"+chgs+'.png'\n",
        "    #cv2.imwrite(os.path.join(RESULT_DIR,name),img_s_h)\n",
        "    chgs = \"s_b\"\n",
        "    name = os.path.splitext(filename)[0]+\"_\"+chgs+'.png'\n",
        "    #cv2.imwrite(os.path.join(RESULT_DIR,name),img_s_b)\n",
        "    chgs = \"s_b_h\"\n",
        "    name = os.path.splitext(filename)[0]+\"_\"+chgs+'.png'\n",
        "    #cv2.imwrite(os.path.join(RESULT_DIR,name),img_s_b_h)\n",
        "    chgs = \"s_z\"\n",
        "    name = os.path.splitext(filename)[0]+\"_\"+chgs+'.png'\n",
        "    #cv2.imwrite(os.path.join(RESULT_DIR,name),img_s_z)\n",
        "    chgs = \"s_z_h\"\n",
        "    name = os.path.splitext(filename)[0]+\"_\"+chgs+'.png'\n",
        "    #cv2.imwrite(os.path.join(RESULT_DIR,name),img_s_z_h)\n",
        "    chgs = \"s_z_b\"\n",
        "    name = os.path.splitext(filename)[0]+\"_\"+chgs+'.png'\n",
        "    #cv2.imwrite(os.path.join(RESULT_DIR,name),img_s_z_b)\n",
        "    chgs = \"s_z_b_h\"\n",
        "    name = os.path.splitext(filename)[0]+\"_\"+chgs+'.png'\n",
        "    #cv2.imwrite(os.path.join(RESULT_DIR,name),img_s_z_b_h)"
      ],
      "execution_count": null,
      "outputs": [
        {
          "output_type": "stream",
          "text": [
            "100%|██████████| 1/1 [00:00<00:00,  1.95it/s]\n",
            "0it [00:00, ?it/s]\n",
            "0it [00:00, ?it/s]\n"
          ],
          "name": "stderr"
        }
      ]
    }
  ]
}